{
 "cells": [
  {
   "cell_type": "code",
   "execution_count": 5,
   "metadata": {},
   "outputs": [],
   "source": [
    "import cv2\n",
    "from base64 import b64decode\n",
    "import numpy as np\n",
    "import keras\n",
    "import tensorflow as tf\n",
    "\n",
    "model = keras.saving.load_model(r'D:\\Math NotePad\\backend\\EquationModel.keras')"
   ]
  },
  {
   "cell_type": "code",
   "execution_count": 20,
   "metadata": {},
   "outputs": [
    {
     "name": "stdout",
     "output_type": "stream",
     "text": [
      "\u001b[1m1/1\u001b[0m \u001b[32m━━━━━━━━━━━━━━━━━━━━\u001b[0m\u001b[37m\u001b[0m \u001b[1m0s\u001b[0m 26ms/step\n"
     ]
    },
    {
     "name": "stderr",
     "output_type": "stream",
     "text": [
      "C:\\Users\\shash\\AppData\\Local\\Temp\\ipykernel_2212\\2366974794.py:3: DeprecationWarning: The binary mode of fromstring is deprecated, as it behaves surprisingly on unicode inputs. Use frombuffer instead\n",
      "  arr = np.fromstring(b64decode(encoded_data), np.uint8)\n"
     ]
    }
   ],
   "source": [
    "def parseImage(raw):\n",
    "    encoded_data = raw.split(',')[1]\n",
    "    arr = np.fromstring(b64decode(encoded_data), np.uint8)\n",
    "    return cv2.imdecode(arr, cv2.IMREAD_COLOR)\n",
    "\n",
    "def image_preprocessing(image):\n",
    "    # image = cv2.resize(image, (32, 32))\n",
    "    arrim = np.array(image)\n",
    "    arrim = np.expand_dims(arrim, axis=-1)\n",
    "    arrim = arrim/255.\n",
    "    arrim = np.array([np.array(arrim)])\n",
    "    return arrim\n",
    "\n",
    "rawImage = \"data:image/jpeg;base64,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\"\n",
    "image = parseImage(rawImage)\n",
    "\n",
    "gray_image = cv2.cvtColor(image, cv2.COLOR_BGR2GRAY)\n",
    "normalized_image = cv2.normalize(gray_image, None, alpha=0, beta=255, norm_type=cv2.NORM_MINMAX)\n",
    "\n",
    "img_24x24 = cv2.resize(gray_image, dsize = (32,32), interpolation= cv2.INTER_LANCZOS4)\n",
    "normalized_image = cv2.bitwise_not(img_24x24)\n",
    "final = image_preprocessing(normalized_image)\n",
    "\n",
    "prediction = model.predict(final)\n"
   ]
  },
  {
   "cell_type": "code",
   "execution_count": 21,
   "metadata": {},
   "outputs": [
    {
     "name": "stdout",
     "output_type": "stream",
     "text": [
      "2\n"
     ]
    }
   ],
   "source": [
    "Digits = ['!', '(', ')', '+', ',', '-', '0', '1', '2', '3', '4', '5', '6','7', '8', '9', '=', \n",
    "                      'Delta', '[', ']', 'alpha', 'beta', 'cos','div', 'exists', 'forall',        \n",
    "                      'forward_slash', 'gamma', 'geq', 'gt', 'i', 'in', 'infty', 'int', \n",
    "                      'leq', 'lim', 'log', 'mu', 'neq', 'phi', 'pi', 'sigma', 'sin', 'sqrt', \n",
    "                      'sum', 'tan', 'theta', 'times', '{', '}']\n",
    "print(Digits[np.argmax(prediction)])"
   ]
  }
 ],
 "metadata": {
  "kernelspec": {
   "display_name": "base_main",
   "language": "python",
   "name": "python3"
  },
  "language_info": {
   "codemirror_mode": {
    "name": "ipython",
    "version": 3
   },
   "file_extension": ".py",
   "mimetype": "text/x-python",
   "name": "python",
   "nbconvert_exporter": "python",
   "pygments_lexer": "ipython3",
   "version": "3.11.9"
  },
  "orig_nbformat": 4
 },
 "nbformat": 4,
 "nbformat_minor": 2
}
