{
 "cells": [
  {
   "cell_type": "code",
   "execution_count": null,
   "metadata": {},
   "outputs": [],
   "source": [
    "import cv2\n",
    "import numpy as np\n",
    "\n",
    "# Load the image\n",
    "image = cv2.imread('Image_1.jpeg')\n",
    "\n",
    "# Convert to grayscale\n",
    "gray = cv2.cvtColor(image, cv2.COLOR_BGR2GRAY)\n",
    "\n",
    "# Apply Gaussian Blur\n",
    "blurred = cv2.GaussianBlur(gray, (5, 5), 0)\n",
    "\n",
    "# Thresholding to get binary image\n",
    "_, thresh = cv2.threshold(blurred, 0, 255, cv2.THRESH_BINARY_INV + cv2.THRESH_OTSU)\n",
    "\n",
    "# Find contours\n",
    "contours, _ = cv2.findContours(thresh, cv2.RETR_EXTERNAL, cv2.CHAIN_APPROX_SIMPLE)\n",
    "\n",
    "# Load your pre-trained digit recognition model (for example, a CNN)\n",
    "# model = load_your_model_function()\n",
    "\n",
    "# Process each contour\n",
    "for contour in contours:\n",
    "    # Get the bounding box for each contour\n",
    "    x, y, w, h = cv2.boundingRect(contour)\n",
    "    \n",
    "    # Extract the region of interest (ROI)\n",
    "    roi = thresh[y:y+h, x:x+w]\n",
    "    \n",
    "    # Resize the ROI to the size your model expects (e.g., 28x28)\n",
    "    roi = cv2.resize(roi, (32, 32), interpolation=cv2.INTER_AREA)\n",
    "    \n",
    "    # Preprocess the ROI as required by your model (e.g., normalize)\n",
    "    roi = roi.astype('float32') / 255.0\n",
    "    roi = np.expand_dims(roi, axis=-1)  # Add channel dimension\n",
    "    roi = np.expand_dims(roi, axis=0)   # Add batch dimension\n",
    "    \n",
    "    # Predict the digit\n",
    "    # digit = model.predict(roi).argmax(axis=1)[0]\n",
    "    \n",
    "    # Draw the bounding box and predicted digit on the original image\n",
    "    cv2.rectangle(image, (x, y), (x+w, y+h), (0, 255, 0), 2)\n",
    "    # cv2.putText(image, str(digit), (x, y-10), cv2.FONT_HERSHEY_SIMPLEX, 1, (0, 255, 0), 2)\n",
    "\n",
    "# Display the image with bounding boxes and predicted digits\n",
    "cv2.imshow('Image', image)\n",
    "cv2.waitKey(0)\n",
    "cv2.destroyAllWindows()"
   ]
  }
 ],
 "metadata": {
  "language_info": {
   "name": "python"
  }
 },
 "nbformat": 4,
 "nbformat_minor": 2
}
